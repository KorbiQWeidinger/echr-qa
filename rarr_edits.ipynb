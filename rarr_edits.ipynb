{
 "cells": [
  {
   "cell_type": "markdown",
   "metadata": {},
   "source": [
    "# RARR Edits\n",
    "- Utility script to study edits done by RARR"
   ]
  },
  {
   "cell_type": "code",
   "execution_count": null,
   "metadata": {},
   "outputs": [],
   "source": [
    "import json\n",
    "from src.utils.get_sentences import get_sentences\n",
    "from src.experiments.load_experiment import load_experiment_df, Experiment\n",
    "from src.column import Column\n",
    "from src.models.citation import SentenceWithCitations\n",
    "\n",
    "df, _ = load_experiment_df(Experiment.RARR_LLAMA_8B)\n",
    "df_base, _ = load_experiment_df(Experiment.BASE_LLAMA_8B)\n",
    "\n",
    "total_sentences = 0\n",
    "total_edits = 0\n",
    "for i, row in df.iterrows():\n",
    "    try:\n",
    "\n",
    "        row_base = df_base.iloc[i]\n",
    "        ga = row_base[Column.GENERATED_ANSWER]\n",
    "        sentences = get_sentences(ga)\n",
    "\n",
    "        sentences_rarr = row[Column.GENERATED_CITATIONS]\n",
    "        sentences_rarr = json.loads(sentences_rarr)\n",
    "        sentences_rarr = [SentenceWithCitations.model_validate(x) for x in sentences_rarr]\n",
    "        sentences_rarr = [x.sentence for x in sentences_rarr]\n",
    "\n",
    "        is_edited = False\n",
    "\n",
    "        for s, sr in zip(sentences, sentences_rarr):\n",
    "            total_sentences += 1\n",
    "            if s != sr:\n",
    "                is_edited = True\n",
    "                total_edits += 1\n",
    "                print()\n",
    "                print(\"Sentence:\", s)\n",
    "                print(\"Edit:\", sr)\n",
    "\n",
    "        if is_edited:\n",
    "            print(\"Question:\", row[Column.QUESTION])\n",
    "            print(\"Base answer:\", \" \".join(sentences))\n",
    "            print(\"Rarr answer:\", \" \".join(sentences_rarr))\n",
    "            print(\" --- \")\n",
    "        \n",
    "    except Exception as e:\n",
    "        print(i, e)\n",
    "\n",
    "print(total_edits / total_sentences)\n",
    "print(total_edits)\n",
    "print(total_sentences)"
   ]
  }
 ],
 "metadata": {
  "kernelspec": {
   "display_name": "env",
   "language": "python",
   "name": "python3"
  },
  "language_info": {
   "codemirror_mode": {
    "name": "ipython",
    "version": 3
   },
   "file_extension": ".py",
   "mimetype": "text/x-python",
   "name": "python",
   "nbconvert_exporter": "python",
   "pygments_lexer": "ipython3",
   "version": "3.12.3"
  }
 },
 "nbformat": 4,
 "nbformat_minor": 2
}
